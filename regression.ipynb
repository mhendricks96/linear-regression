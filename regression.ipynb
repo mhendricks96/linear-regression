{
 "metadata": {
  "language_info": {
   "codemirror_mode": {
    "name": "ipython",
    "version": 3
   },
   "file_extension": ".py",
   "mimetype": "text/x-python",
   "name": "python",
   "nbconvert_exporter": "python",
   "pygments_lexer": "ipython3",
   "version": "3.9.5"
  },
  "orig_nbformat": 2,
  "kernelspec": {
   "name": "python3",
   "display_name": "Python 3.9.5 64-bit ('.venv': venv)",
   "metadata": {
    "interpreter": {
     "hash": "234afd0e51a4286e56aa08ee817d80ffcadc7629f979f803d972c17461de3aa6"
    }
   }
  }
 },
 "nbformat": 4,
 "nbformat_minor": 2,
 "cells": [
  {
   "cell_type": "code",
   "execution_count": 5,
   "metadata": {},
   "outputs": [],
   "source": [
    "import matplotlib.pyplot as plt\n",
    "import pandas as pd\n",
    "from sklearn.linear_model import LinearRegression\n",
    "from sklearn.model_selection import train_test_split"
   ]
  },
  {
   "cell_type": "code",
   "execution_count": 30,
   "metadata": {},
   "outputs": [],
   "source": [
    "df = pd.read_csv('data/scores.csv')"
   ]
  },
  {
   "source": [
    "### First 5 rows of Dataframe"
   ],
   "cell_type": "markdown",
   "metadata": {}
  },
  {
   "cell_type": "code",
   "execution_count": 32,
   "metadata": {},
   "outputs": [
    {
     "output_type": "execute_result",
     "data": {
      "text/plain": [
       "  School ID                                        School Name    Borough  \\\n",
       "0    02M260                 Clinton School Writers and Artists  Manhattan   \n",
       "1    06M211  Inwood Early College for Health and Informatio...  Manhattan   \n",
       "2    01M539  New Explorations into Science, Technology and ...  Manhattan   \n",
       "3    02M294                               Essex Street Academy  Manhattan   \n",
       "4    02M308                       Lower Manhattan Arts Academy  Manhattan   \n",
       "\n",
       "  Building Code        Street Address       City State  Zip Code  Latitude  \\\n",
       "0          M933  425 West 33rd Street  Manhattan    NY     10001  40.75321   \n",
       "1          M052    650 Academy Street  Manhattan    NY     10002  40.86605   \n",
       "2          M022   111 Columbia Street  Manhattan    NY     10002  40.71873   \n",
       "3          M445      350 Grand Street  Manhattan    NY     10002  40.71687   \n",
       "4          M445      350 Grand Street  Manhattan    NY     10002  40.71687   \n",
       "\n",
       "   Longitude  ... End Time Student Enrollment Percent White  Percent Black  \\\n",
       "0  -73.99786  ...      NaN                NaN           NaN            NaN   \n",
       "1  -73.92486  ...  3:00 PM               87.0          3.4%          21.8%   \n",
       "2  -73.97943  ...  4:00 PM             1735.0         28.6%          13.3%   \n",
       "3  -73.98953  ...  2:45 PM              358.0         11.7%          38.5%   \n",
       "4  -73.98953  ...  3:00 PM              383.0          3.1%          28.2%   \n",
       "\n",
       "  Percent Hispanic Percent Asian Average Score (SAT Math)  \\\n",
       "0              NaN           NaN                      NaN   \n",
       "1            67.8%          4.6%                      NaN   \n",
       "2            18.0%         38.5%                    657.0   \n",
       "3            41.3%          5.9%                    395.0   \n",
       "4            56.9%          8.6%                    418.0   \n",
       "\n",
       "  Average Score (SAT Reading)  Average Score (SAT Writing)  Percent Tested  \n",
       "0                         NaN                          NaN             NaN  \n",
       "1                         NaN                          NaN             NaN  \n",
       "2                       601.0                        601.0           91.0%  \n",
       "3                       411.0                        387.0           78.9%  \n",
       "4                       428.0                        415.0           65.1%  \n",
       "\n",
       "[5 rows x 22 columns]"
      ],
      "text/html": "<div>\n<style scoped>\n    .dataframe tbody tr th:only-of-type {\n        vertical-align: middle;\n    }\n\n    .dataframe tbody tr th {\n        vertical-align: top;\n    }\n\n    .dataframe thead th {\n        text-align: right;\n    }\n</style>\n<table border=\"1\" class=\"dataframe\">\n  <thead>\n    <tr style=\"text-align: right;\">\n      <th></th>\n      <th>School ID</th>\n      <th>School Name</th>\n      <th>Borough</th>\n      <th>Building Code</th>\n      <th>Street Address</th>\n      <th>City</th>\n      <th>State</th>\n      <th>Zip Code</th>\n      <th>Latitude</th>\n      <th>Longitude</th>\n      <th>...</th>\n      <th>End Time</th>\n      <th>Student Enrollment</th>\n      <th>Percent White</th>\n      <th>Percent Black</th>\n      <th>Percent Hispanic</th>\n      <th>Percent Asian</th>\n      <th>Average Score (SAT Math)</th>\n      <th>Average Score (SAT Reading)</th>\n      <th>Average Score (SAT Writing)</th>\n      <th>Percent Tested</th>\n    </tr>\n  </thead>\n  <tbody>\n    <tr>\n      <th>0</th>\n      <td>02M260</td>\n      <td>Clinton School Writers and Artists</td>\n      <td>Manhattan</td>\n      <td>M933</td>\n      <td>425 West 33rd Street</td>\n      <td>Manhattan</td>\n      <td>NY</td>\n      <td>10001</td>\n      <td>40.75321</td>\n      <td>-73.99786</td>\n      <td>...</td>\n      <td>NaN</td>\n      <td>NaN</td>\n      <td>NaN</td>\n      <td>NaN</td>\n      <td>NaN</td>\n      <td>NaN</td>\n      <td>NaN</td>\n      <td>NaN</td>\n      <td>NaN</td>\n      <td>NaN</td>\n    </tr>\n    <tr>\n      <th>1</th>\n      <td>06M211</td>\n      <td>Inwood Early College for Health and Informatio...</td>\n      <td>Manhattan</td>\n      <td>M052</td>\n      <td>650 Academy Street</td>\n      <td>Manhattan</td>\n      <td>NY</td>\n      <td>10002</td>\n      <td>40.86605</td>\n      <td>-73.92486</td>\n      <td>...</td>\n      <td>3:00 PM</td>\n      <td>87.0</td>\n      <td>3.4%</td>\n      <td>21.8%</td>\n      <td>67.8%</td>\n      <td>4.6%</td>\n      <td>NaN</td>\n      <td>NaN</td>\n      <td>NaN</td>\n      <td>NaN</td>\n    </tr>\n    <tr>\n      <th>2</th>\n      <td>01M539</td>\n      <td>New Explorations into Science, Technology and ...</td>\n      <td>Manhattan</td>\n      <td>M022</td>\n      <td>111 Columbia Street</td>\n      <td>Manhattan</td>\n      <td>NY</td>\n      <td>10002</td>\n      <td>40.71873</td>\n      <td>-73.97943</td>\n      <td>...</td>\n      <td>4:00 PM</td>\n      <td>1735.0</td>\n      <td>28.6%</td>\n      <td>13.3%</td>\n      <td>18.0%</td>\n      <td>38.5%</td>\n      <td>657.0</td>\n      <td>601.0</td>\n      <td>601.0</td>\n      <td>91.0%</td>\n    </tr>\n    <tr>\n      <th>3</th>\n      <td>02M294</td>\n      <td>Essex Street Academy</td>\n      <td>Manhattan</td>\n      <td>M445</td>\n      <td>350 Grand Street</td>\n      <td>Manhattan</td>\n      <td>NY</td>\n      <td>10002</td>\n      <td>40.71687</td>\n      <td>-73.98953</td>\n      <td>...</td>\n      <td>2:45 PM</td>\n      <td>358.0</td>\n      <td>11.7%</td>\n      <td>38.5%</td>\n      <td>41.3%</td>\n      <td>5.9%</td>\n      <td>395.0</td>\n      <td>411.0</td>\n      <td>387.0</td>\n      <td>78.9%</td>\n    </tr>\n    <tr>\n      <th>4</th>\n      <td>02M308</td>\n      <td>Lower Manhattan Arts Academy</td>\n      <td>Manhattan</td>\n      <td>M445</td>\n      <td>350 Grand Street</td>\n      <td>Manhattan</td>\n      <td>NY</td>\n      <td>10002</td>\n      <td>40.71687</td>\n      <td>-73.98953</td>\n      <td>...</td>\n      <td>3:00 PM</td>\n      <td>383.0</td>\n      <td>3.1%</td>\n      <td>28.2%</td>\n      <td>56.9%</td>\n      <td>8.6%</td>\n      <td>418.0</td>\n      <td>428.0</td>\n      <td>415.0</td>\n      <td>65.1%</td>\n    </tr>\n  </tbody>\n</table>\n<p>5 rows × 22 columns</p>\n</div>"
     },
     "metadata": {},
     "execution_count": 32
    }
   ],
   "source": [
    "df.head()"
   ]
  },
  {
   "source": [
    "### Show description of data set"
   ],
   "cell_type": "markdown",
   "metadata": {}
  },
  {
   "cell_type": "code",
   "execution_count": 33,
   "metadata": {},
   "outputs": [
    {
     "output_type": "execute_result",
     "data": {
      "text/plain": [
       "           Zip Code    Latitude   Longitude  Student Enrollment  \\\n",
       "count    435.000000  435.000000  435.000000          428.000000   \n",
       "mean   10726.096552   40.745472  -73.921072          702.357477   \n",
       "std      537.927907    0.080937    0.071705          759.176061   \n",
       "min    10001.000000   40.528230  -74.192150           62.000000   \n",
       "25%    10301.500000   40.690495  -73.979260          357.250000   \n",
       "50%    10472.000000   40.741210  -73.925140          466.000000   \n",
       "75%    11217.000000   40.822095  -73.882580          623.250000   \n",
       "max    11694.000000   40.888370  -73.726910         5447.000000   \n",
       "\n",
       "       Average Score (SAT Math)  Average Score (SAT Reading)  \\\n",
       "count                375.000000                   375.000000   \n",
       "mean                 432.944000                   424.504000   \n",
       "std                   71.952373                    61.881069   \n",
       "min                  317.000000                   302.000000   \n",
       "25%                  386.000000                   386.000000   \n",
       "50%                  415.000000                   413.000000   \n",
       "75%                  458.500000                   445.000000   \n",
       "max                  754.000000                   697.000000   \n",
       "\n",
       "       Average Score (SAT Writing)  \n",
       "count                   375.000000  \n",
       "mean                    418.458667  \n",
       "std                      64.548599  \n",
       "min                     284.000000  \n",
       "25%                     382.000000  \n",
       "50%                     403.000000  \n",
       "75%                     437.500000  \n",
       "max                     693.000000  "
      ],
      "text/html": "<div>\n<style scoped>\n    .dataframe tbody tr th:only-of-type {\n        vertical-align: middle;\n    }\n\n    .dataframe tbody tr th {\n        vertical-align: top;\n    }\n\n    .dataframe thead th {\n        text-align: right;\n    }\n</style>\n<table border=\"1\" class=\"dataframe\">\n  <thead>\n    <tr style=\"text-align: right;\">\n      <th></th>\n      <th>Zip Code</th>\n      <th>Latitude</th>\n      <th>Longitude</th>\n      <th>Student Enrollment</th>\n      <th>Average Score (SAT Math)</th>\n      <th>Average Score (SAT Reading)</th>\n      <th>Average Score (SAT Writing)</th>\n    </tr>\n  </thead>\n  <tbody>\n    <tr>\n      <th>count</th>\n      <td>435.000000</td>\n      <td>435.000000</td>\n      <td>435.000000</td>\n      <td>428.000000</td>\n      <td>375.000000</td>\n      <td>375.000000</td>\n      <td>375.000000</td>\n    </tr>\n    <tr>\n      <th>mean</th>\n      <td>10726.096552</td>\n      <td>40.745472</td>\n      <td>-73.921072</td>\n      <td>702.357477</td>\n      <td>432.944000</td>\n      <td>424.504000</td>\n      <td>418.458667</td>\n    </tr>\n    <tr>\n      <th>std</th>\n      <td>537.927907</td>\n      <td>0.080937</td>\n      <td>0.071705</td>\n      <td>759.176061</td>\n      <td>71.952373</td>\n      <td>61.881069</td>\n      <td>64.548599</td>\n    </tr>\n    <tr>\n      <th>min</th>\n      <td>10001.000000</td>\n      <td>40.528230</td>\n      <td>-74.192150</td>\n      <td>62.000000</td>\n      <td>317.000000</td>\n      <td>302.000000</td>\n      <td>284.000000</td>\n    </tr>\n    <tr>\n      <th>25%</th>\n      <td>10301.500000</td>\n      <td>40.690495</td>\n      <td>-73.979260</td>\n      <td>357.250000</td>\n      <td>386.000000</td>\n      <td>386.000000</td>\n      <td>382.000000</td>\n    </tr>\n    <tr>\n      <th>50%</th>\n      <td>10472.000000</td>\n      <td>40.741210</td>\n      <td>-73.925140</td>\n      <td>466.000000</td>\n      <td>415.000000</td>\n      <td>413.000000</td>\n      <td>403.000000</td>\n    </tr>\n    <tr>\n      <th>75%</th>\n      <td>11217.000000</td>\n      <td>40.822095</td>\n      <td>-73.882580</td>\n      <td>623.250000</td>\n      <td>458.500000</td>\n      <td>445.000000</td>\n      <td>437.500000</td>\n    </tr>\n    <tr>\n      <th>max</th>\n      <td>11694.000000</td>\n      <td>40.888370</td>\n      <td>-73.726910</td>\n      <td>5447.000000</td>\n      <td>754.000000</td>\n      <td>697.000000</td>\n      <td>693.000000</td>\n    </tr>\n  </tbody>\n</table>\n</div>"
     },
     "metadata": {},
     "execution_count": 33
    }
   ],
   "source": [
    "df.describe()"
   ]
  },
  {
   "cell_type": "code",
   "execution_count": null,
   "metadata": {},
   "outputs": [],
   "source": []
  },
  {
   "cell_type": "code",
   "execution_count": 34,
   "metadata": {},
   "outputs": [
    {
     "output_type": "stream",
     "name": "stdout",
     "text": [
      "<class 'pandas.core.frame.DataFrame'>\nRangeIndex: 435 entries, 0 to 434\nData columns (total 22 columns):\n #   Column                       Non-Null Count  Dtype  \n---  ------                       --------------  -----  \n 0   School ID                    435 non-null    object \n 1   School Name                  435 non-null    object \n 2   Borough                      435 non-null    object \n 3   Building Code                435 non-null    object \n 4   Street Address               435 non-null    object \n 5   City                         435 non-null    object \n 6   State                        435 non-null    object \n 7   Zip Code                     435 non-null    int64  \n 8   Latitude                     435 non-null    float64\n 9   Longitude                    435 non-null    float64\n 10  Phone Number                 435 non-null    object \n 11  Start Time                   431 non-null    object \n 12  End Time                     431 non-null    object \n 13  Student Enrollment           428 non-null    float64\n 14  Percent White                428 non-null    object \n 15  Percent Black                428 non-null    object \n 16  Percent Hispanic             428 non-null    object \n 17  Percent Asian                428 non-null    object \n 18  Average Score (SAT Math)     375 non-null    float64\n 19  Average Score (SAT Reading)  375 non-null    float64\n 20  Average Score (SAT Writing)  375 non-null    float64\n 21  Percent Tested               386 non-null    object \ndtypes: float64(6), int64(1), object(15)\nmemory usage: 74.9+ KB\n"
     ]
    }
   ],
   "source": [
    "df.info()"
   ]
  },
  {
   "cell_type": "code",
   "execution_count": 36,
   "metadata": {},
   "outputs": [
    {
     "output_type": "execute_result",
     "data": {
      "text/plain": [
       "    Zip Code\n",
       "0      10001\n",
       "1      10002\n",
       "2      10002\n",
       "3      10002\n",
       "4      10002\n",
       "5      10002\n",
       "6      10002\n",
       "7      10002\n",
       "8      10002\n",
       "9      10002\n",
       "10     10002\n",
       "11     10002\n",
       "12     10002\n",
       "13     10003\n",
       "14     10003\n",
       "15     10003\n",
       "16     10003\n",
       "17     10003\n",
       "18     10003\n",
       "19     10003"
      ],
      "text/html": "<div>\n<style scoped>\n    .dataframe tbody tr th:only-of-type {\n        vertical-align: middle;\n    }\n\n    .dataframe tbody tr th {\n        vertical-align: top;\n    }\n\n    .dataframe thead th {\n        text-align: right;\n    }\n</style>\n<table border=\"1\" class=\"dataframe\">\n  <thead>\n    <tr style=\"text-align: right;\">\n      <th></th>\n      <th>Zip Code</th>\n    </tr>\n  </thead>\n  <tbody>\n    <tr>\n      <th>0</th>\n      <td>10001</td>\n    </tr>\n    <tr>\n      <th>1</th>\n      <td>10002</td>\n    </tr>\n    <tr>\n      <th>2</th>\n      <td>10002</td>\n    </tr>\n    <tr>\n      <th>3</th>\n      <td>10002</td>\n    </tr>\n    <tr>\n      <th>4</th>\n      <td>10002</td>\n    </tr>\n    <tr>\n      <th>5</th>\n      <td>10002</td>\n    </tr>\n    <tr>\n      <th>6</th>\n      <td>10002</td>\n    </tr>\n    <tr>\n      <th>7</th>\n      <td>10002</td>\n    </tr>\n    <tr>\n      <th>8</th>\n      <td>10002</td>\n    </tr>\n    <tr>\n      <th>9</th>\n      <td>10002</td>\n    </tr>\n    <tr>\n      <th>10</th>\n      <td>10002</td>\n    </tr>\n    <tr>\n      <th>11</th>\n      <td>10002</td>\n    </tr>\n    <tr>\n      <th>12</th>\n      <td>10002</td>\n    </tr>\n    <tr>\n      <th>13</th>\n      <td>10003</td>\n    </tr>\n    <tr>\n      <th>14</th>\n      <td>10003</td>\n    </tr>\n    <tr>\n      <th>15</th>\n      <td>10003</td>\n    </tr>\n    <tr>\n      <th>16</th>\n      <td>10003</td>\n    </tr>\n    <tr>\n      <th>17</th>\n      <td>10003</td>\n    </tr>\n    <tr>\n      <th>18</th>\n      <td>10003</td>\n    </tr>\n    <tr>\n      <th>19</th>\n      <td>10003</td>\n    </tr>\n  </tbody>\n</table>\n</div>"
     },
     "metadata": {},
     "execution_count": 36
    }
   ],
   "source": [
    "df[['Zip Code']].head(20)"
   ]
  },
  {
   "cell_type": "code",
   "execution_count": null,
   "metadata": {},
   "outputs": [],
   "source": []
  }
 ]
}